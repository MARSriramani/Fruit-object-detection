{
  "metadata": {
    "kernelspec": {
      "language": "python",
      "display_name": "Python 3",
      "name": "python3"
    },
    "language_info": {
      "pygments_lexer": "ipython3",
      "nbconvert_exporter": "python",
      "version": "3.6.4",
      "file_extension": ".py",
      "codemirror_mode": {
        "name": "ipython",
        "version": 3
      },
      "name": "python",
      "mimetype": "text/x-python"
    },
    "colab": {
      "name": "fruit-images-for-object-detection.ipynb",
      "provenance": [],
      "include_colab_link": true
    }
  },
  "nbformat_minor": 0,
  "nbformat": 4,
  "cells": [
    {
      "cell_type": "markdown",
      "metadata": {
        "id": "view-in-github",
        "colab_type": "text"
      },
      "source": [
        "<a href=\"https://colab.research.google.com/github/MARSriramani/Fruit-object-detection/blob/main/fruit_images_for_object_detection.ipynb\" target=\"_parent\"><img src=\"https://colab.research.google.com/assets/colab-badge.svg\" alt=\"Open In Colab\"/></a>"
      ]
    },
    {
      "cell_type": "markdown",
      "source": [
        "## Fruit Images for Object Detection\n",
        "### Containing labelled fruit images to train object detection systems."
      ],
      "metadata": {
        "id": "eutObKVWDRh-"
      }
    },
    {
      "cell_type": "markdown",
      "source": [
        "### Context\n",
        "- A different dataset for object detection.\n",
        "- 240 images in train folder\n",
        "- 60 images in test folder.\n",
        "\n",
        "### Content\n",
        "- 3 different fruits:\n",
        "\n",
        "     a. Apple\n",
        "\n",
        "     b. Banana\n",
        "\n",
        "     c. Orange"
      ],
      "metadata": {
        "id": "RdMnUBjFDRiB"
      }
    },
    {
      "cell_type": "code",
      "source": [
        "# Importing modules \n",
        "import numpy as np \n",
        "import pandas as pd \n",
        "import os\n",
        "import matplotlib.pyplot as plt\n",
        "import cv2\n",
        "\n",
        "from tensorflow.keras.utils import to_categorical\n",
        "from keras.layers import Dense,Conv2D,Flatten,MaxPool2D,Dropout\n",
        "from keras.models import Sequential\n",
        "\n",
        "from sklearn.model_selection import train_test_split\n",
        "\n",
        "np.random.seed(1)"
      ],
      "metadata": {
        "_uuid": "8f2839f25d086af736a60e9eeb907d3b93b6e0e5",
        "_cell_guid": "b1076dfc-b9ad-4769-8c92-a6c4dae69d19",
        "trusted": true,
        "id": "2kVu0OJHDRiC"
      },
      "execution_count": null,
      "outputs": []
    },
    {
      "cell_type": "code",
      "source": [
        "# Processing training data\n",
        "# -> appending images in a list 'train_images'\n",
        "# -> appending labels in a list 'train_labels'\n",
        "\n",
        "train_images = []       \n",
        "train_labels = []\n",
        "shape = (200,200)  \n",
        "train_path = '../input/fruit-images-for-object-detection/train_zip/train'\n",
        "\n",
        "for filename in os.listdir('../input/fruit-images-for-object-detection/train_zip/train'):\n",
        "    if filename.split('.')[1] == 'jpg':\n",
        "        img = cv2.imread(os.path.join(train_path,filename))\n",
        "        \n",
        "        # Spliting file names and storing the labels for image in list\n",
        "        train_labels.append(filename.split('_')[0])\n",
        "        \n",
        "        # Resize all images to a specific shape\n",
        "        img = cv2.resize(img,shape)\n",
        "        \n",
        "        train_images.append(img)\n",
        "\n",
        "# Converting labels into One Hot encoded sparse matrix\n",
        "train_labels = pd.get_dummies(train_labels).values\n",
        "\n",
        "# Converting train_images to array\n",
        "train_images = np.array(train_images)\n",
        "\n",
        "# Splitting Training data into train and validation dataset\n",
        "x_train,x_val,y_train,y_val = train_test_split(train_images,train_labels,random_state=1)"
      ],
      "metadata": {
        "trusted": true,
        "id": "-crFQXRmDRiE"
      },
      "execution_count": null,
      "outputs": []
    },
    {
      "cell_type": "code",
      "source": [
        "# Processing testing data\n",
        "# -> appending images in a list 'test_images'\n",
        "# -> appending labels in a list 'test_labels'\n",
        "# The test data contains labels as well also we are appending it to a list but we are'nt going to use it while training.\n",
        "\n",
        "test_images = []\n",
        "test_labels = []\n",
        "shape = (200,200)\n",
        "test_path = '../input/fruit-images-for-object-detection/test_zip/test'\n",
        "\n",
        "for filename in os.listdir('../input/fruit-images-for-object-detection/test_zip/test'):\n",
        "    if filename.split('.')[1] == 'jpg':\n",
        "        img = cv2.imread(os.path.join(test_path,filename))\n",
        "        \n",
        "        # Spliting file names and storing the labels for image in list\n",
        "        test_labels.append(filename.split('_')[0])\n",
        "        \n",
        "        # Resize all images to a specific shape\n",
        "        img = cv2.resize(img,shape)\n",
        "        \n",
        "        test_images.append(img)\n",
        "        \n",
        "# Converting test_images to array\n",
        "test_images = np.array(test_images)"
      ],
      "metadata": {
        "trusted": true,
        "id": "gVshhhPPDRiF"
      },
      "execution_count": null,
      "outputs": []
    },
    {
      "cell_type": "code",
      "source": [
        "# Visualizing Training data\n",
        "print(train_labels[0])\n",
        "plt.imshow(train_images[0])"
      ],
      "metadata": {
        "trusted": true,
        "id": "_KnPSBkaDRiG"
      },
      "execution_count": null,
      "outputs": []
    },
    {
      "cell_type": "code",
      "source": [
        "# Visualizing Training data\n",
        "print(train_labels[4])\n",
        "plt.imshow(train_images[4])"
      ],
      "metadata": {
        "trusted": true,
        "id": "wnSrEV-5DRiH"
      },
      "execution_count": null,
      "outputs": []
    },
    {
      "cell_type": "code",
      "source": [
        "# Creating a Sequential model\n",
        "model= Sequential()\n",
        "model.add(Conv2D(kernel_size=(3,3), filters=32, activation='tanh', input_shape=(200,200,3,)))\n",
        "model.add(Conv2D(filters=30,kernel_size = (3,3),activation='tanh'))\n",
        "model.add(MaxPool2D(2,2))\n",
        "model.add(Conv2D(filters=30,kernel_size = (3,3),activation='tanh'))\n",
        "model.add(MaxPool2D(2,2))\n",
        "model.add(Conv2D(filters=30,kernel_size = (3,3),activation='tanh'))\n",
        "\n",
        "model.add(Flatten())\n",
        "\n",
        "model.add(Dense(20,activation='relu'))\n",
        "model.add(Dense(15,activation='relu'))\n",
        "model.add(Dense(4,activation = 'softmax'))\n",
        "    \n",
        "model.compile(\n",
        "              loss='categorical_crossentropy', \n",
        "              metrics=['acc'],\n",
        "              optimizer='adam'\n",
        "             )"
      ],
      "metadata": {
        "trusted": true,
        "id": "jsmD5gJmDRiI"
      },
      "execution_count": null,
      "outputs": []
    },
    {
      "cell_type": "code",
      "source": [
        "# Model Summary\n",
        "model.summary()"
      ],
      "metadata": {
        "trusted": true,
        "id": "TOQL69P_DRiJ"
      },
      "execution_count": null,
      "outputs": []
    },
    {
      "cell_type": "code",
      "source": [
        "# Training the model\n",
        "history = model.fit(x_train,y_train,epochs=50,batch_size=50,validation_data=(x_val,y_val))"
      ],
      "metadata": {
        "trusted": true,
        "id": "UF5HPBpLDRiK"
      },
      "execution_count": null,
      "outputs": []
    },
    {
      "cell_type": "code",
      "source": [
        "# summarize history for accuracy\n",
        "plt.plot(history.history['acc'])\n",
        "plt.plot(history.history['val_acc'])\n",
        "plt.title('model accuracy')\n",
        "plt.ylabel('accuracy')\n",
        "plt.xlabel('epoch')\n",
        "plt.legend(['train', 'test'], loc='upper left')\n",
        "plt.show()"
      ],
      "metadata": {
        "trusted": true,
        "id": "LjOEU9uLDRiL"
      },
      "execution_count": null,
      "outputs": []
    },
    {
      "cell_type": "code",
      "source": [
        "# summarize history for loss\n",
        "plt.plot(history.history['loss'])\n",
        "plt.plot(history.history['val_loss'])\n",
        "plt.title('model loss')\n",
        "plt.ylabel('loss')\n",
        "plt.xlabel('epoch')\n",
        "plt.legend(['train', 'test'], loc='upper left')\n",
        "plt.show()"
      ],
      "metadata": {
        "trusted": true,
        "id": "m5ulJR_KDRiL"
      },
      "execution_count": null,
      "outputs": []
    },
    {
      "cell_type": "code",
      "source": [
        "# Evaluating model on validation data\n",
        "evaluate = model.evaluate(x_val,y_val)\n",
        "print(evaluate)"
      ],
      "metadata": {
        "trusted": true,
        "id": "ut5wg7-LDRiM"
      },
      "execution_count": null,
      "outputs": []
    },
    {
      "cell_type": "code",
      "source": [
        "# Testing predictions and the actual label\n",
        "checkImage = test_images[0:1]\n",
        "checklabel = test_labels[0:1]\n",
        "\n",
        "predict = model.predict(np.array(checkImage))\n",
        "\n",
        "output = { 0:'apple',1:'banana',2:'mixed',3:'orange'}\n",
        "\n",
        "print(\"Actual :- \",checklabel)\n",
        "print(\"Predicted :- \",output[np.argmax(predict)])"
      ],
      "metadata": {
        "trusted": true,
        "id": "xPPyq6CTDRiN"
      },
      "execution_count": null,
      "outputs": []
    }
  ]
}